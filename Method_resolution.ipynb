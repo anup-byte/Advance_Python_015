{
 "cells": [
  {
   "cell_type": "markdown",
   "metadata": {},
   "source": [
    "Method Resolution Order(MRO) is the order in which Python looks for methods in a class hierarchy."
   ]
  },
  {
   "cell_type": "code",
   "execution_count": 1,
   "metadata": {},
   "outputs": [
    {
     "name": "stdout",
     "output_type": "stream",
     "text": [
      "ChildClass.__init__()\n",
      "BaseClass.__init__()\n"
     ]
    }
   ],
   "source": [
    "class BaseClass:\n",
    "    def __init__(self):\n",
    "        print(\"BaseClass.__init__()\")\n",
    "\n",
    "class ChildClass(BaseClass):\n",
    "    def __init__(self):\n",
    "        print(\"ChildClass.__init__()\")\n",
    "        super().__init__()\n",
    "\n",
    "child = ChildClass()                "
   ]
  },
  {
   "cell_type": "code",
   "execution_count": 2,
   "metadata": {},
   "outputs": [
    {
     "name": "stdout",
     "output_type": "stream",
     "text": [
      "[<class '__main__.ChildClass'>, <class '__main__.BaseClass'>, <class 'object'>]\n"
     ]
    }
   ],
   "source": [
    "print(ChildClass.mro())"
   ]
  },
  {
   "cell_type": "code",
   "execution_count": 3,
   "metadata": {},
   "outputs": [
    {
     "name": "stdout",
     "output_type": "stream",
     "text": [
      "GrandChildClass.__init__()\n",
      "ChildClass.__init__()\n"
     ]
    }
   ],
   "source": [
    "class BaseClass:\n",
    "    def __init__(self):\n",
    "        print(\"BaseClass.__init__()\")\n",
    "\n",
    "class ChildClass(BaseClass):\n",
    "    def __init__(self):\n",
    "        print(\"ChildClass.__init__()\")\n",
    "        #super().__init__()\n",
    "\n",
    "class GrandChildClass(ChildClass):\n",
    "    def __init__(self):\n",
    "        print(\"GrandChildClass.__init__()\")\n",
    "        super().__init__()        \n",
    "\n",
    "child = GrandChildClass()                "
   ]
  },
  {
   "cell_type": "code",
   "execution_count": 4,
   "metadata": {},
   "outputs": [
    {
     "name": "stdout",
     "output_type": "stream",
     "text": [
      "[<class '__main__.GrandChildClass'>, <class '__main__.ChildClass'>, <class '__main__.BaseClass'>, <class 'object'>]\n"
     ]
    }
   ],
   "source": [
    "print(GrandChildClass.mro())"
   ]
  },
  {
   "cell_type": "code",
   "execution_count": 5,
   "metadata": {},
   "outputs": [
    {
     "name": "stdout",
     "output_type": "stream",
     "text": [
      "GrandChildClass.__init__()\n",
      "ChildClass.__init__()\n",
      "BaseClass.__init__()\n"
     ]
    }
   ],
   "source": [
    "class BaseClass:\n",
    "    def __init__(self):\n",
    "        print(\"BaseClass.__init__()\")\n",
    "\n",
    "class ChildClass(BaseClass):\n",
    "    def __init__(self):\n",
    "        print(\"ChildClass.__init__()\")\n",
    "        super().__init__()\n",
    "\n",
    "class GrandChildClass(ChildClass):\n",
    "    def __init__(self):\n",
    "        print(\"GrandChildClass.__init__()\")\n",
    "        super().__init__()        \n",
    "\n",
    "child = GrandChildClass()                "
   ]
  },
  {
   "cell_type": "code",
   "execution_count": 6,
   "metadata": {},
   "outputs": [
    {
     "name": "stdout",
     "output_type": "stream",
     "text": [
      "[<class '__main__.GrandChildClass'>, <class '__main__.ChildClass'>, <class '__main__.BaseClass'>, <class 'object'>]\n"
     ]
    }
   ],
   "source": [
    "print(GrandChildClass.mro())"
   ]
  },
  {
   "cell_type": "code",
   "execution_count": 7,
   "metadata": {},
   "outputs": [
    {
     "name": "stdout",
     "output_type": "stream",
     "text": [
      "GrandChildClass.__init__()\n",
      "ChildClass2.__init__()\n",
      "ChildClass1.__init__()\n",
      "BaseClass.__init__()\n"
     ]
    }
   ],
   "source": [
    "class BaseClass:\n",
    "    def __init__(self):\n",
    "        print(\"BaseClass.__init__()\")\n",
    "\n",
    "    def method1(self):\n",
    "        print(\"BaseClass.method1()\")\n",
    "\n",
    "\n",
    "class ChildClass1(BaseClass):\n",
    "    def __init__(self):\n",
    "        print(\"ChildClass1.__init__()\")\n",
    "        super().__init__()\n",
    "\n",
    "    def method1(self):\n",
    "        print(\"ChildClass1.method1()\")\n",
    "\n",
    "class ChildClass2(ChildClass1):\n",
    "    def __init__(self):\n",
    "        print(\"ChildClass2.__init__()\")\n",
    "        super().__init__()\n",
    "\n",
    "    def method2(self):\n",
    "        print(\"ChildClass2.method2()\")                \n",
    "\n",
    "class GrandChildClass(ChildClass2):\n",
    "    def __init__(self):\n",
    "        print(\"GrandChildClass.__init__()\")\n",
    "        super().__init__() \n",
    "\n",
    "    def method1(self):\n",
    "        print(\"GrandChildClass.method1()\")\n",
    "\n",
    "\n",
    "grandchild = GrandChildClass()                "
   ]
  },
  {
   "cell_type": "code",
   "execution_count": 8,
   "metadata": {},
   "outputs": [
    {
     "name": "stdout",
     "output_type": "stream",
     "text": [
      "[<class '__main__.GrandChildClass'>, <class '__main__.ChildClass2'>, <class '__main__.ChildClass1'>, <class '__main__.BaseClass'>, <class 'object'>]\n"
     ]
    }
   ],
   "source": [
    "print(GrandChildClass.mro())"
   ]
  },
  {
   "cell_type": "code",
   "execution_count": 9,
   "metadata": {},
   "outputs": [
    {
     "name": "stdout",
     "output_type": "stream",
     "text": [
      "GrandChildClass.method1()\n"
     ]
    }
   ],
   "source": [
    "grandchild.method1()"
   ]
  },
  {
   "cell_type": "code",
   "execution_count": null,
   "metadata": {},
   "outputs": [],
   "source": [
    "grandchild.method1()"
   ]
  },
  {
   "cell_type": "code",
   "execution_count": 10,
   "metadata": {},
   "outputs": [],
   "source": [
    "class Mother:\n",
    "    \n",
    "    def __init__(self):\n",
    "        self.name = \"Shakti\"\n",
    "    \n",
    "    def print(self):\n",
    "        \n",
    "        print(\"Print of Mother called\")\n",
    "        \n",
    "        \n",
    "        \n",
    "class Father:\n",
    "    \n",
    "    def __init__(self):\n",
    "        self.name = \"Shiva\"\n",
    "    \n",
    "    def print(self):\n",
    "        \n",
    "        print(\"Print of Father called\")\n",
    "    \n",
    "    \n",
    "class Child(Mother, Father):\n",
    "    \n",
    "    def __init__(self):\n",
    "        super().__init__()\n",
    "        \n",
    "        \n",
    "    def print(self):\n",
    "        print(\"Name of child is\", self.name)\n",
    "            \n",
    "    "
   ]
  },
  {
   "cell_type": "code",
   "execution_count": 11,
   "metadata": {},
   "outputs": [
    {
     "name": "stdout",
     "output_type": "stream",
     "text": [
      "Name of child is Shakti\n"
     ]
    }
   ],
   "source": [
    "c = Child()\n",
    "c.print()"
   ]
  },
  {
   "cell_type": "code",
   "execution_count": 12,
   "metadata": {},
   "outputs": [
    {
     "name": "stdout",
     "output_type": "stream",
     "text": [
      "[<class '__main__.Child'>, <class '__main__.Mother'>, <class '__main__.Father'>, <class 'object'>]\n"
     ]
    }
   ],
   "source": [
    "print(Child.mro())"
   ]
  },
  {
   "cell_type": "code",
   "execution_count": 13,
   "metadata": {},
   "outputs": [],
   "source": [
    "class Mother:\n",
    "    \n",
    "    def __init__(self):\n",
    "        self.name = \"Shakti\"\n",
    "        super().__init__()\n",
    "    \n",
    "    def print(self):\n",
    "        \n",
    "        print(\"Print of Mother called\")\n",
    "        \n",
    "        \n",
    "        \n",
    "class Father:\n",
    "    \n",
    "    def __init__(self):\n",
    "        self.name = \"Shiva\"\n",
    "    \n",
    "    def print(self):\n",
    "        \n",
    "        print(\"Print of Father called\")\n",
    "    \n",
    "    \n",
    "class Child(Mother, Father):\n",
    "    \n",
    "    def __init__(self):\n",
    "        super().__init__()\n",
    "        \n",
    "        \n",
    "    def print(self):\n",
    "        print(\"Name of child is\", self.name)\n",
    "            \n",
    "    "
   ]
  },
  {
   "cell_type": "code",
   "execution_count": 14,
   "metadata": {},
   "outputs": [
    {
     "name": "stdout",
     "output_type": "stream",
     "text": [
      "Name of child is Shiva\n"
     ]
    }
   ],
   "source": [
    "c = Child()\n",
    "c.print()"
   ]
  },
  {
   "cell_type": "code",
   "execution_count": 15,
   "metadata": {},
   "outputs": [
    {
     "name": "stdout",
     "output_type": "stream",
     "text": [
      "[<class '__main__.Child'>, <class '__main__.Mother'>, <class '__main__.Father'>, <class 'object'>]\n"
     ]
    }
   ],
   "source": [
    "print(Child.mro())"
   ]
  },
  {
   "cell_type": "code",
   "execution_count": 16,
   "metadata": {},
   "outputs": [],
   "source": [
    "class Mother:\n",
    "    \n",
    "    def __init__(self):\n",
    "        self.name = \"Shakti\"\n",
    "        super().__init__()\n",
    "    \n",
    "    def print(self):\n",
    "        \n",
    "        print(\"Print of Mother called\")\n",
    "        \n",
    "        \n",
    "        \n",
    "class Father:\n",
    "    \n",
    "    def __init__(self):\n",
    "        self.name = \"Shiva\"\n",
    "        super().__init__()\n",
    "    \n",
    "    def print(self):\n",
    "        \n",
    "        print(\"Print of Father called\")\n",
    "    \n",
    "    \n",
    "class Child(Mother, Father):\n",
    "    \n",
    "    def __init__(self):\n",
    "        super().__init__()\n",
    "        \n",
    "        \n",
    "    def print(self):\n",
    "        print(\"Name of child is\", self.name)\n",
    "            \n",
    "    "
   ]
  },
  {
   "cell_type": "code",
   "execution_count": 17,
   "metadata": {},
   "outputs": [
    {
     "name": "stdout",
     "output_type": "stream",
     "text": [
      "Name of child is Shiva\n"
     ]
    }
   ],
   "source": [
    "c = Child()\n",
    "c.print()"
   ]
  },
  {
   "cell_type": "code",
   "execution_count": 18,
   "metadata": {},
   "outputs": [
    {
     "name": "stdout",
     "output_type": "stream",
     "text": [
      "[<class '__main__.Child'>, <class '__main__.Mother'>, <class '__main__.Father'>, <class 'object'>]\n"
     ]
    }
   ],
   "source": [
    "print(Child.mro())"
   ]
  }
 ],
 "metadata": {
  "kernelspec": {
   "display_name": "Python 3",
   "language": "python",
   "name": "python3"
  },
  "language_info": {
   "codemirror_mode": {
    "name": "ipython",
    "version": 3
   },
   "file_extension": ".py",
   "mimetype": "text/x-python",
   "name": "python",
   "nbconvert_exporter": "python",
   "pygments_lexer": "ipython3",
   "version": "3.11.3"
  }
 },
 "nbformat": 4,
 "nbformat_minor": 2
}
